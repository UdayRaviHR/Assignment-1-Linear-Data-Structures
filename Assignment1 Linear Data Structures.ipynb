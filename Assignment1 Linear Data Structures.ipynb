{
 "cells": [
  {
   "cell_type": "code",
   "execution_count": 1,
   "metadata": {},
   "outputs": [
    {
     "name": "stdout",
     "output_type": "stream",
     "text": [
      "[(2, 8), (4, 6), (5, 5)]\n"
     ]
    }
   ],
   "source": [
    "#1. program to find all pairs of an integer array whose sum is equal to a given number\n",
    "\n",
    "def check_pair(arr, given_number):\n",
    "    pairs = []\n",
    "\n",
    "    for i in range(len(arr)):\n",
    "        for j in range(i, len(arr)):\n",
    "            if arr[i] + arr[j] == given_number:\n",
    "                pairs.append((arr[i], arr[j]))\n",
    "\n",
    "    return pairs\n",
    "\n",
    "given_array = [2, 4, 5, 6, 7, 8, 9]\n",
    "num = 10\n",
    "print(check_pair(given_array, num))"
   ]
  },
  {
   "cell_type": "code",
   "execution_count": 2,
   "metadata": {},
   "outputs": [
    {
     "data": {
      "text/plain": [
       "[5, 9, 4, 3, 2, 1]"
      ]
     },
     "execution_count": 2,
     "metadata": {},
     "output_type": "execute_result"
    }
   ],
   "source": [
    "#2. program to reverse an array in place? In place means you cannot create a new array. You have to update the original array.\n",
    "\n",
    "\n",
    "def reverse_array(a):\n",
    "    start = 0\n",
    "    end = (len(a)-1)\n",
    "    while start < end:\n",
    "        a[start],a[end] = a[end],a[start]\n",
    "        start+=1\n",
    "        end-=1\n",
    "    return a\n",
    "\n",
    "a = [1,2,3,4,9,5]\n",
    "reverse_array(a)"
   ]
  },
  {
   "cell_type": "code",
   "execution_count": 3,
   "metadata": {},
   "outputs": [
    {
     "name": "stdout",
     "output_type": "stream",
     "text": [
      "hello and lohel are rotations of each other\n"
     ]
    }
   ],
   "source": [
    "#3. Write a program to check if two strings are a rotation of each other?\n",
    "\n",
    "def check_rotation(str1 , str2):\n",
    "  if len(str1) != len(str2):\n",
    "    return False\n",
    "  \n",
    "  str1 = str1 + str1\n",
    "\n",
    "  if str2 in str1:\n",
    "    return True\n",
    "  else:\n",
    "    return False\n",
    "  \n",
    "str1 = 'hello'\n",
    "str2 = 'lohel'\n",
    "\n",
    "if check_rotation(str1,str2):\n",
    "  print(f\"{str1} and {str2} are rotations of each other\")\n",
    "else:\n",
    "    print(f\"{str1} and {str2} are not rotations of each other\")\n",
    "    "
   ]
  },
  {
   "cell_type": "code",
   "execution_count": 4,
   "metadata": {},
   "outputs": [
    {
     "name": "stdout",
     "output_type": "stream",
     "text": [
      "h\n"
     ]
    }
   ],
   "source": [
    "#4. Write a program to print the first non-repeated character from a string?\n",
    "\n",
    "str = 'helloworld'\n",
    "\n",
    "def non_repeat(str):\n",
    "    char = ''\n",
    "    \n",
    "    for i in str:\n",
    "        if str.count(i) == 1:\n",
    "            char+=i\n",
    "            break\n",
    "            \n",
    "    if len(char) > 0:\n",
    "        return char\n",
    "    else:\n",
    "        return 'Either all characters are repeating or string is empty'\n",
    "\n",
    "\n",
    "            \n",
    "print(non_repeat(str))"
   ]
  },
  {
   "cell_type": "code",
   "execution_count": 5,
   "metadata": {},
   "outputs": [
    {
     "name": "stdout",
     "output_type": "stream",
     "text": [
      "Move disk 1 from rod A to rod C\n",
      "Move disk 2 from rod A to rod B\n",
      "Move disk 1 from rod C to rod B\n",
      "Move disk 3 from rod A to rod C\n",
      "Move disk 1 from rod B to rod A\n",
      "Move disk 2 from rod B to rod C\n",
      "Move disk 1 from rod A to rod C\n"
     ]
    }
   ],
   "source": [
    "#5. Read about the Tower of Hanoi algorithm. Write a program to implement it.\n",
    "def tower_of_hanoi(n, from_rod, to_rod, aux_rod):\n",
    "    if n == 1:\n",
    "        print(\"Move disk 1 from rod\", from_rod, \"to rod\", to_rod)\n",
    "        return\n",
    "    tower_of_hanoi(n-1, from_rod, aux_rod, to_rod)\n",
    "    print(\"Move disk\", n, \"from rod\", from_rod, \"to rod\", to_rod)\n",
    "    tower_of_hanoi(n-1, aux_rod, to_rod, from_rod)\n",
    "\n",
    "# example usage\n",
    "num_discs = 3\n",
    "tower_of_hanoi(num_discs, 'A', 'C', 'B')\n",
    "\n",
    "\n"
   ]
  },
  {
   "cell_type": "code",
   "execution_count": 6,
   "metadata": {},
   "outputs": [
    {
     "name": "stdout",
     "output_type": "stream",
     "text": [
      "Prefix expression: /*+2345\n"
     ]
    }
   ],
   "source": [
    "#6. Read about infix, prefix, and postfix expressions. Write a program to convert postfix to prefix expression\n",
    "\n",
    "def postfix_to_prefix(postfix_expression):\n",
    "    stack = []\n",
    "    \n",
    "    for char in postfix_expression:\n",
    "        \n",
    "        if char.isalnum():\n",
    "            stack.append(char)\n",
    "        else:\n",
    "            operand2 = stack.pop()\n",
    "            operand1 = stack.pop()\n",
    "            prefix_expression = char + operand1 + operand2\n",
    "            stack.append(prefix_expression)\n",
    "    return stack.pop()\n",
    "\n",
    "postfix_expression = \"23+4*5/\"\n",
    "prefix_expression = postfix_to_prefix(postfix_expression)\n",
    "print(\"Prefix expression:\", prefix_expression)"
   ]
  },
  {
   "cell_type": "code",
   "execution_count": 7,
   "metadata": {},
   "outputs": [
    {
     "name": "stdout",
     "output_type": "stream",
     "text": [
      "Infix expression: ((2+3)*(4/5))\n"
     ]
    }
   ],
   "source": [
    "#7. Write a program to convert prefix expression to infix expression.\n",
    "\n",
    "def is_operator(char):\n",
    "    operators = set(['+', '-', '*', '/', '^'])\n",
    "    return char in operators\n",
    "\n",
    "def prefix_to_infix(prefix_expression):\n",
    "    stack = []\n",
    "    \n",
    "    for char in reversed(prefix_expression):\n",
    "        \n",
    "        if not is_operator(char):\n",
    "            stack.append(char)\n",
    "        else:\n",
    "            operand1 = stack.pop()\n",
    "            operand2 = stack.pop()\n",
    "            infix_expression = \"(\" + operand1 + char + operand2 + \")\"\n",
    "            stack.append(infix_expression)\n",
    "    \n",
    "    return stack.pop()\n",
    "\n",
    "prefix_expression = \"*+23/45\"\n",
    "infix_expression = prefix_to_infix(prefix_expression)\n",
    "print(\"Infix expression:\", infix_expression)"
   ]
  },
  {
   "cell_type": "code",
   "execution_count": 8,
   "metadata": {},
   "outputs": [
    {
     "name": "stdout",
     "output_type": "stream",
     "text": [
      "All brackets are closed in the code snippet.\n"
     ]
    }
   ],
   "source": [
    "#Q8. Write a program to check if all the brackets are closed in a given code snippet.\n",
    "\n",
    "def check_bracket(code):\n",
    "    stack = []\n",
    "    brackets = {'(': ')', '[': ']', '{': '}'}\n",
    "\n",
    "    for char in code:\n",
    "        if char in brackets.keys():\n",
    "            stack.append(char)\n",
    "        elif char in brackets.values():\n",
    "            check = stack.pop()\n",
    "            if brackets[check] != char:\n",
    "                return False\n",
    "\n",
    "    return not stack\n",
    "\n",
    "code = \"(a +[c+d]+a)\"\n",
    "\n",
    "if check_bracket(code):\n",
    "    print(\"All brackets are closed in the code snippet.\")\n",
    "else:\n",
    "    print(\"Not all brackets are closed in the code snippet.\")"
   ]
  },
  {
   "cell_type": "code",
   "execution_count": 9,
   "metadata": {},
   "outputs": [
    {
     "name": "stdout",
     "output_type": "stream",
     "text": [
      "Original stack was : ['A', 'B', 'C']\n",
      "Reversed stack is : ['C', 'B', 'A']\n"
     ]
    }
   ],
   "source": [
    "# Q9. Write a program to reverse a stack.\n",
    "\n",
    "class Stack:\n",
    "    def __init__(self):\n",
    "        self.items = []\n",
    "\n",
    "    def push(self, val):\n",
    "        self.items.append(val)\n",
    "\n",
    "    def pop(self):\n",
    "        return self.items.pop()\n",
    "    \n",
    "    def is_empty(self):\n",
    "        return len(self.items) == 0\n",
    "    \n",
    "\n",
    "def reverse(stack):\n",
    "    temp_stack = Stack()\n",
    "\n",
    "    while not stack.is_empty():\n",
    "        temp_stack.push(stack.pop())\n",
    "    stack.items = temp_stack.items\n",
    "\n",
    "\n",
    "obj = Stack()\n",
    "obj.push(\"A\")\n",
    "obj.push(\"B\")\n",
    "obj.push(\"C\")\n",
    "\n",
    "print(\"Original stack was :\",obj.items)\n",
    "\n",
    "reverse(obj)\n",
    "\n",
    "print(\"Reversed stack is :\",obj.items)"
   ]
  },
  {
   "cell_type": "code",
   "execution_count": 10,
   "metadata": {},
   "outputs": [
    {
     "name": "stdout",
     "output_type": "stream",
     "text": [
      "[135, 109, 130]\n",
      "109\n"
     ]
    }
   ],
   "source": [
    "# Q10. Write a program to find the smallest number using a stack.\n",
    "\n",
    "class Stack:\n",
    "    def __init__(self):\n",
    "        self.items = []\n",
    "        self.min_items = []\n",
    "\n",
    "    def push(self, val):\n",
    "        self.items.append(val)\n",
    "\n",
    "        if not self.min_items or val <= self.min_items[-1]:\n",
    "            self.min_items.append(val)\n",
    "\n",
    "\n",
    "    def pop(self):\n",
    "        item =  self.items.pop()\n",
    "        if item in self.min_items[-1]:\n",
    "            self.min_items.pop()\n",
    "        return item\n",
    "\n",
    "    \n",
    "    def is_empty(self):\n",
    "        return len(self.items) == 0\n",
    "    \n",
    "    def smallest_number(self):\n",
    "        return self.min_items[-1] if self.min_items else None        \n",
    "\n",
    "    \n",
    "obj = Stack()\n",
    "obj.push(135)\n",
    "obj.push(109)\n",
    "obj.push(130)\n",
    "\n",
    "print(obj.items)\n",
    "print(obj.smallest_number())"
   ]
  },
  {
   "cell_type": "markdown",
   "metadata": {},
   "source": []
  }
 ],
 "metadata": {
  "kernelspec": {
   "display_name": "Python 3",
   "language": "python",
   "name": "python3"
  },
  "language_info": {
   "codemirror_mode": {
    "name": "ipython",
    "version": 3
   },
   "file_extension": ".py",
   "mimetype": "text/x-python",
   "name": "python",
   "nbconvert_exporter": "python",
   "pygments_lexer": "ipython3",
   "version": "3.7.9"
  },
  "orig_nbformat": 4
 },
 "nbformat": 4,
 "nbformat_minor": 2
}
